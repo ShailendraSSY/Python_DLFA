{
  "nbformat": 4,
  "nbformat_minor": 0,
  "metadata": {
    "colab": {
      "name": "DLFA-B1-20210502.ipynb",
      "private_outputs": true,
      "provenance": [],
      "toc_visible": true
    },
    "kernelspec": {
      "name": "python3",
      "display_name": "Python 3"
    },
    "language_info": {
      "name": "python"
    }
  },
  "cells": [
    {
      "cell_type": "markdown",
      "metadata": {
        "id": "jKE-EKEbWBXm"
      },
      "source": [
        "# Plan for the day\n",
        "\n",
        "\n",
        "1.   Collatz\n",
        "2.   RegEx --\n",
        "3.   Linux Text Processing Tools \n",
        "\n",
        "\n"
      ]
    },
    {
      "cell_type": "markdown",
      "metadata": {
        "id": "efgcpReEWcJ4"
      },
      "source": [
        "## Collatz"
      ]
    },
    {
      "cell_type": "code",
      "metadata": {
        "id": "D-HmXbBZZqNZ"
      },
      "source": [
        "def next_collatz(n: int) -> int:\n",
        "    return n // 2 if n % 2 == 0 else 3 * n + 1"
      ],
      "execution_count": null,
      "outputs": []
    },
    {
      "cell_type": "code",
      "metadata": {
        "id": "RO9X2k3FZ9mB"
      },
      "source": [
        "def collatz_seq(n: int) -> [int]:\n",
        "    if n == 4:\n",
        "        return [4, 2, 1]\n",
        "    return [n] + collatz_seq(next_collatz(n))"
      ],
      "execution_count": null,
      "outputs": []
    },
    {
      "cell_type": "code",
      "metadata": {
        "id": "PEu8Hf0uaK6p"
      },
      "source": [
        "def y_collatz_seq(n: int):\n",
        "    while n != 4:\n",
        "        yield n\n",
        "        n = next_collatz(n)\n",
        "    yield 4\n",
        "    yield 2\n",
        "    yield 1"
      ],
      "execution_count": null,
      "outputs": []
    },
    {
      "cell_type": "code",
      "metadata": {
        "id": "9SHRXdjpa6aC"
      },
      "source": [
        "collatz_seq(7)"
      ],
      "execution_count": null,
      "outputs": []
    },
    {
      "cell_type": "code",
      "metadata": {
        "id": "5BGgT3YZbD9Z"
      },
      "source": [
        "collatz_seq(1)"
      ],
      "execution_count": null,
      "outputs": []
    },
    {
      "cell_type": "code",
      "metadata": {
        "id": "a11LKF2qbG8c"
      },
      "source": [
        "for i in y_collatz_seq(7):\n",
        "    print(i, end = \" \")"
      ],
      "execution_count": null,
      "outputs": []
    },
    {
      "cell_type": "markdown",
      "metadata": {
        "id": "wY2xh2U9bLol"
      },
      "source": [
        "# Simple regEx a la grep"
      ]
    },
    {
      "cell_type": "code",
      "metadata": {
        "id": "-8RPxZNKi-c2"
      },
      "source": [
        "cat example2.txt"
      ],
      "execution_count": null,
      "outputs": []
    },
    {
      "cell_type": "code",
      "metadata": {
        "id": "TZ3rHylHjBIf"
      },
      "source": [
        "!grep Z example2.txt "
      ],
      "execution_count": null,
      "outputs": []
    },
    {
      "cell_type": "code",
      "metadata": {
        "id": "Uh4RPzN3lHnR"
      },
      "source": [
        "!grep \"e\" example2.txt"
      ],
      "execution_count": null,
      "outputs": []
    },
    {
      "cell_type": "code",
      "metadata": {
        "id": "XewsxTRhlfiX"
      },
      "source": [
        "!grep \"E\" example2.txt"
      ],
      "execution_count": null,
      "outputs": []
    },
    {
      "cell_type": "code",
      "metadata": {
        "id": "WiextShgln1I"
      },
      "source": [
        "!grep \"^E\" example2.txt"
      ],
      "execution_count": null,
      "outputs": []
    },
    {
      "cell_type": "code",
      "metadata": {
        "id": "7QqAUdjJlrKm"
      },
      "source": [
        "!grep \"^S\" example2.txt"
      ],
      "execution_count": null,
      "outputs": []
    },
    {
      "cell_type": "code",
      "metadata": {
        "id": "fIt4xHOYl6W1"
      },
      "source": [
        "!grep \"[eE]\" example2.txt"
      ],
      "execution_count": null,
      "outputs": []
    },
    {
      "cell_type": "code",
      "metadata": {
        "id": "wJ7kM9XQmPRU"
      },
      "source": [
        "!grep \"[0123456789]\" example2.txt"
      ],
      "execution_count": null,
      "outputs": []
    },
    {
      "cell_type": "code",
      "metadata": {
        "id": "K5uVOrIUnKBt"
      },
      "source": [
        "!grep \"^[0123456789]\" example2.txt    "
      ],
      "execution_count": null,
      "outputs": []
    },
    {
      "cell_type": "code",
      "metadata": {
        "id": "7w1lWcYWnQPC"
      },
      "source": [
        "!grep \"^[0-9]\" example2.txt    "
      ],
      "execution_count": null,
      "outputs": []
    },
    {
      "cell_type": "code",
      "metadata": {
        "id": "Y4qhfROInT0d"
      },
      "source": [
        "!grep \"[1-5]\" example2.txt"
      ],
      "execution_count": null,
      "outputs": []
    },
    {
      "cell_type": "code",
      "metadata": {
        "id": "aei9AuCnn30k"
      },
      "source": [
        "!grep \"[11-15]\" example2.txt"
      ],
      "execution_count": null,
      "outputs": []
    },
    {
      "cell_type": "code",
      "metadata": {
        "id": "_wAb4vbrn5M7"
      },
      "source": [
        "!grep \"[k-p]\" example2.txt"
      ],
      "execution_count": null,
      "outputs": []
    },
    {
      "cell_type": "code",
      "metadata": {
        "id": "eYZk4DTXoitR"
      },
      "source": [
        "!grep \"[AA-AZ]\" example2.txt"
      ],
      "execution_count": null,
      "outputs": []
    },
    {
      "cell_type": "code",
      "metadata": {
        "id": "8Ap80qwoo2iM"
      },
      "source": [
        "!grep \"[AA-ZA]\""
      ],
      "execution_count": null,
      "outputs": []
    },
    {
      "cell_type": "code",
      "metadata": {
        "id": "5QlrhwODpPEw"
      },
      "source": [
        "!grep \"[a-z]$\" example2.txt"
      ],
      "execution_count": null,
      "outputs": []
    },
    {
      "cell_type": "code",
      "metadata": {
        "id": "IFt5g4U5pUED"
      },
      "source": [
        "!grep \"e.e\" example2.txt"
      ],
      "execution_count": null,
      "outputs": []
    },
    {
      "cell_type": "code",
      "metadata": {
        "id": "QH_DGIstpkm0"
      },
      "source": [
        "!grep \"e*e\" example2.txt"
      ],
      "execution_count": null,
      "outputs": []
    },
    {
      "cell_type": "code",
      "metadata": {
        "id": "gQxJCqutqMTo"
      },
      "source": [
        "!grep -E  \"e*\" example2.txt"
      ],
      "execution_count": null,
      "outputs": []
    },
    {
      "cell_type": "code",
      "metadata": {
        "id": "-V6eV5m7qeQ5"
      },
      "source": [
        "!grep -E  \"e+\" example2.txt"
      ],
      "execution_count": null,
      "outputs": []
    },
    {
      "cell_type": "code",
      "metadata": {
        "id": "fzOHpybGqw7t"
      },
      "source": [
        "!grep \"e+\" example2.txt"
      ],
      "execution_count": null,
      "outputs": []
    },
    {
      "cell_type": "code",
      "metadata": {
        "id": "H6BqomeAq6Bk"
      },
      "source": [
        "!grep -E \"e\\{1\\}\" example2.txt"
      ],
      "execution_count": null,
      "outputs": []
    },
    {
      "cell_type": "code",
      "metadata": {
        "id": "YSEXVqQmrPB2"
      },
      "source": [
        "!grep \"[0]\" example2.txt"
      ],
      "execution_count": null,
      "outputs": []
    },
    {
      "cell_type": "code",
      "metadata": {
        "id": "mojRHJGirbKG"
      },
      "source": [
        ""
      ],
      "execution_count": null,
      "outputs": []
    }
  ]
}